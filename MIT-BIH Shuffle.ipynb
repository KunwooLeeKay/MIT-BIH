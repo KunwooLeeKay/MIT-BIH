{
 "cells": [
  {
   "cell_type": "code",
   "execution_count": 3,
   "id": "1900ce29",
   "metadata": {},
   "outputs": [],
   "source": [
    "import numpy as np"
   ]
  },
  {
   "cell_type": "code",
   "execution_count": 25,
   "id": "1f483ffa",
   "metadata": {},
   "outputs": [
    {
     "data": {
      "text/plain": [
       "array([0, 1, 2, 3, 4])"
      ]
     },
     "execution_count": 25,
     "metadata": {},
     "output_type": "execute_result"
    }
   ],
   "source": [
    "l1 = np.arange(5)\n",
    "l1"
   ]
  },
  {
   "cell_type": "code",
   "execution_count": 26,
   "id": "75d4be38",
   "metadata": {},
   "outputs": [
    {
     "name": "stdout",
     "output_type": "stream",
     "text": [
      "[4 5 1 2 3]\n",
      "[40 50 10 20 30]\n"
     ]
    }
   ],
   "source": [
    "arr3 = np.array([1,2,3,4,5])\n",
    "arr4 = np.array([10,20,30,40,50])\n",
    "np.random.shuffle(l1)\n",
    "arr3 = arr3[l1]\n",
    "arr4 = arr4[l1]\n",
    "print(arr3)\n",
    "print(arr4)"
   ]
  },
  {
   "cell_type": "code",
   "execution_count": 27,
   "id": "c6fcf767",
   "metadata": {},
   "outputs": [
    {
     "name": "stdout",
     "output_type": "stream",
     "text": [
      "[[[10 20]\n",
      "  [30 40]]\n",
      "\n",
      " [[ 1  2]\n",
      "  [ 3  4]]]\n",
      "[[[100 200]\n",
      "  [300 400]]\n",
      "\n",
      " [[ 10  20]\n",
      "  [ 30  40]]]\n"
     ]
    }
   ],
   "source": [
    "arr1 = np.array([[[1,2],[3,4]],[[10,20],[30,40]]])\n",
    "arr2 = np.array([[[10,20],[30,40]],[[100,200],[300,400]]])\n",
    "l2 = np.arange(2)\n",
    "np.random.shuffle(l2)\n",
    "arr1 = arr1[l2]\n",
    "arr2 = arr2[l2]\n",
    "print(arr1)\n",
    "print(arr2)"
   ]
  },
  {
   "cell_type": "code",
   "execution_count": 21,
   "id": "9bde162a",
   "metadata": {},
   "outputs": [
    {
     "data": {
      "text/plain": [
       "array([[[ 1,  2],\n",
       "        [ 3,  4]],\n",
       "\n",
       "       [[10, 20],\n",
       "        [30, 40]]])"
      ]
     },
     "execution_count": 21,
     "metadata": {},
     "output_type": "execute_result"
    }
   ],
   "source": [
    "np.random.shuffle(arr1)\n",
    "arr1"
   ]
  },
  {
   "cell_type": "code",
   "execution_count": 22,
   "id": "88cf44fe",
   "metadata": {},
   "outputs": [],
   "source": [
    "train_X = np.load(r\"C:\\Users\\user\\Desktop\\ECG_Project\\MIT-BIH\\mitbih_processed_image\\train_image.npy\")\n",
    "val_X = np.load(r\"C:\\Users\\user\\Desktop\\ECG_Project\\MIT-BIH\\mitbih_processed_image\\validation_image.npy\")\n",
    "train_Y = np.load(r\"C:\\Users\\user\\Desktop\\ECG_Project\\MIT-BIH\\mitbih_processed_image\\train_label.npy\")\n",
    "val_Y = np.load(r\"C:\\Users\\user\\Desktop\\ECG_Project\\MIT-BIH\\mitbih_processed_image\\validation_label.npy\")"
   ]
  },
  {
   "cell_type": "code",
   "execution_count": 28,
   "id": "0c15b5c9",
   "metadata": {},
   "outputs": [],
   "source": [
    "train_sequence = np.arange(train_X.shape[0])\n",
    "np.random.shuffle(train_sequence)\n",
    "train_X = train_X[train_sequence]"
   ]
  },
  {
   "cell_type": "code",
   "execution_count": 30,
   "id": "67ea5d42",
   "metadata": {},
   "outputs": [],
   "source": [
    "train_Y = train_Y[train_sequence]"
   ]
  },
  {
   "cell_type": "code",
   "execution_count": 44,
   "id": "1467cdea",
   "metadata": {},
   "outputs": [],
   "source": [
    "np.save(r\"C:\\Users\\user\\Desktop\\ECG_Project\\MIT-BIH\\mitbih_processed_image\\train_image_shuffled.npy\", train_X)\n",
    "np.save(r\"C:\\Users\\user\\Desktop\\ECG_Project\\MIT-BIH\\mitbih_processed_image\\train_label_shuffled.npy\",train_Y)"
   ]
  },
  {
   "cell_type": "code",
   "execution_count": 41,
   "id": "d8ad2b8d",
   "metadata": {},
   "outputs": [
    {
     "name": "stdout",
     "output_type": "stream",
     "text": [
      "[0. 1. 0. 0. 0.]\n"
     ]
    },
    {
     "data": {
      "image/png": "[encoded data removed]",
      "text/plain": [
       "<Figure size 432x288 with 1 Axes>"
      ]
     },
     "metadata": {
      "needs_background": "light"
     },
     "output_type": "display_data"
    }
   ],
   "source": [
    "import matplotlib.pyplot as plt\n",
    "plt.imshow(train_X[16])\n",
    "print(train_Y[16])\n",
    "\n",
    "# for i in range(10000):\n",
    "# #     print(train_Y[i].argmax())\n",
    "#     if train_Y[i].argmax() == 1:\n",
    "#         print(i)"
   ]
  }
 ],
 "metadata": {
  "kernelspec": {
   "display_name": "tf_kernel",
   "language": "python",
   "name": "tensorflow"
  },
  "language_info": {
   "codemirror_mode": {
    "name": "ipython",
    "version": 3
   },
   "file_extension": ".py",
   "mimetype": "text/x-python",
   "name": "python",
   "nbconvert_exporter": "python",
   "pygments_lexer": "ipython3",
   "version": "3.8.12"
  }
 },
 "nbformat": 4,
 "nbformat_minor": 5
}
